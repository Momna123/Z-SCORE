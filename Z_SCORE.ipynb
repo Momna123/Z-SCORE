{
  "nbformat": 4,
  "nbformat_minor": 0,
  "metadata": {
    "colab": {
      "name": "Z SCORE.ipynb",
      "provenance": []
    },
    "kernelspec": {
      "name": "python3",
      "display_name": "Python 3"
    },
    "language_info": {
      "name": "python"
    }
  },
  "cells": [
    {
      "cell_type": "code",
      "execution_count": 1,
      "metadata": {
        "id": "62SasdfQ1L1S"
      },
      "outputs": [],
      "source": [
        "import numpy as np\n",
        "import pandas as pd\n",
        "import scipy.stats as stats"
      ]
    },
    {
      "cell_type": "markdown",
      "source": [
        "step 1: Import modules\n",
        "step 2: create an arrays of values"
      ],
      "metadata": {
        "id": "Mq16kLzK2SxD"
      }
    },
    {
      "cell_type": "code",
      "source": [
        "data = np.array([2,4,6,89,4,56,7,12,44,22,23,16])"
      ],
      "metadata": {
        "id": "lHvq3h4b2dQS"
      },
      "execution_count": 2,
      "outputs": []
    },
    {
      "cell_type": "markdown",
      "source": [
        "step 3: calculate the z-score for each value in the array."
      ],
      "metadata": {
        "id": "CoR-CTZA2r4i"
      }
    },
    {
      "cell_type": "code",
      "source": [
        "stats.zscore(data)"
      ],
      "metadata": {
        "colab": {
          "base_uri": "https://localhost:8080/"
        },
        "id": "sNgOxECe20Bp",
        "outputId": "6d00f4e4-7ed7-4249-b574-b2077d3ec5cb"
      },
      "execution_count": 3,
      "outputs": [
        {
          "output_type": "execute_result",
          "data": {
            "text/plain": [
              "array([-0.85539754, -0.7767403 , -0.69808305,  2.56619263, -0.7767403 ,\n",
              "        1.26834808, -0.65875443, -0.46211132,  0.79640461, -0.06882509,\n",
              "       -0.02949647, -0.30479683])"
            ]
          },
          "metadata": {},
          "execution_count": 3
        }
      ]
    }
  ]
}